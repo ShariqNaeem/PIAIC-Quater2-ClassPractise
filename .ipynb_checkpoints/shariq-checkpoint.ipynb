{
 "cells": [
  {
   "cell_type": "code",
   "execution_count": 17,
   "metadata": {},
   "outputs": [
    {
     "name": "stdout",
     "output_type": "stream",
     "text": [
      "hello, world\n"
     ]
    }
   ],
   "source": [
    "print('hello, world')"
   ]
  },
  {
   "cell_type": "code",
   "execution_count": 22,
   "metadata": {},
   "outputs": [
    {
     "name": "stdout",
     "output_type": "stream",
     "text": [
      "Number of A_Scorers are:  10\n"
     ]
    }
   ],
   "source": [
    "# Question # 1\n",
    "\n",
    "scores = \"67 80 90 78 93 20 79 89 96 97 92 88 79 68 58 90 98 100 79 74 83 88 80 86 85 70 90 100\"\n",
    "a_scorer=0\n",
    "\n",
    "mylist=scores.split(\" \");\n",
    "\n",
    "for student in mylist:\n",
    "    std=int(student)\n",
    "    \n",
    "    if(std >= 90):\n",
    "        a_scorer+=1\n",
    "        \n",
    "print('Number of A_Scorers are: ',a_scorer)"
   ]
  },
  {
   "cell_type": "code",
   "execution_count": 27,
   "metadata": {
    "scrolled": true
   },
   "outputs": [
    {
     "name": "stdout",
     "output_type": "stream",
     "text": [
      "OHSEHW\n"
     ]
    }
   ],
   "source": [
    "# Question # 2\n",
    "\n",
    "stopwords = ['to', 'a', 'for', 'by', 'an', 'am', 'the', 'so', 'it', 'and', \"The\"]\n",
    "org = \"The organization for health, safety, and education. hello to world\"\n",
    "mylist=org.split()\n",
    "str=\"\"\n",
    "\n",
    "for word in mylist:\n",
    "    if word in stopwords:\n",
    "        str+=\"\"\n",
    "    else:\n",
    "        str+=word[0].upper()\n",
    "\n",
    "print(str)"
   ]
  },
  {
   "cell_type": "code",
   "execution_count": 29,
   "metadata": {},
   "outputs": [
    {
     "name": "stdout",
     "output_type": "stream",
     "text": [
      "WAEAAIARVI\n"
     ]
    }
   ],
   "source": [
    "# Question # 3\n",
    "\n",
    "stopwords = ['to', 'a', 'for', 'by', 'an', 'am', 'the', 'so', 'it', 'and', \"The\"]\n",
    "sent = \"The water earth and air are vital\"\n",
    "mylist=sent.split()\n",
    "str=\"\"\n",
    "\n",
    "for word in mylist:\n",
    "    if word in stopwords:\n",
    "        str+=\"\"\n",
    "    else:\n",
    "        str+=word[0].upper()+word[1].upper()\n",
    "\n",
    "print(str)"
   ]
  },
  {
   "cell_type": "code",
   "execution_count": 37,
   "metadata": {},
   "outputs": [
    {
     "name": "stdout",
     "output_type": "stream",
     "text": [
      "It is Palindrome :O\n",
      "wasItacaroracatisaw\n"
     ]
    }
   ],
   "source": [
    "# Question # 4\n",
    "\n",
    "p_phrase = \"was it a car or a cat I saw\"\n",
    "p_phrase=p_phrase.replace(' ',\"\")\n",
    "r_phrase=p_phrase[::-1]\n",
    "\n",
    "if(p_phrase.lower() == r_phrase.lower()):\n",
    "    print(\"It is Palindrome :O\")\n",
    "else:\n",
    "    print(\"It is not Palindrome :X\")\n",
    "    \n",
    "print(r_phrase)\n"
   ]
  },
  {
   "cell_type": "code",
   "execution_count": 56,
   "metadata": {},
   "outputs": [
    {
     "name": "stdout",
     "output_type": "stream",
     "text": [
      "The store has 12 shoes, each for 29.99 USD.\n",
      "The store has 20 shirts, each for 9.99 USD.\n",
      "The store has 25 sweatpants, each for 15.00 USD.\n",
      "The store has 13 scarves, each for 7.75 USD.\n"
     ]
    }
   ],
   "source": [
    "# Question # 5\n",
    "\n",
    "inventory = [\"shoes, 12, 29.99\", \"shirts, 20, 9.99\", \"sweatpants, 25, 15.00\", \"scarves, 13, 7.75\"]\n",
    "mystring= \"The store has {0} {1}, each for {2} USD.\"\n",
    "str=\"\"\n",
    "\n",
    "for repeat in inventory:\n",
    "    line=repeat.split()\n",
    "    str=mystring.format(line[1].replace(\",\",\"\")\n",
    ",line[0].replace(\",\",\"\"),line[2].replace(\",\",\"\"))\n",
    "    print(str)\n",
    "    str=\"\"\n"
   ]
  },
  {
   "cell_type": "code",
   "execution_count": 57,
   "metadata": {},
   "outputs": [
    {
     "name": "stdout",
     "output_type": "stream",
     "text": [
      "['ended', 'worked', 'played', 'started', 'walked', 'looked', 'opened', 'rained', 'learned', 'cleaned']\n"
     ]
    }
   ],
   "source": [
    "# Question # 6\n",
    "\n",
    "wrds = [\"end\", 'work', \"play\", \"start\", \"walk\", \"look\", \"open\", \"rain\", \"learn\", \"clean\"]\n",
    "mylist=[]\n",
    "\n",
    "for inc in wrds:\n",
    "    mylist.append(inc+\"ed\")\n",
    "\n",
    "print(mylist)"
   ]
  },
  {
   "cell_type": "code",
   "execution_count": 76,
   "metadata": {},
   "outputs": [
    {
     "name": "stdout",
     "output_type": "stream",
     "text": [
      "5\n"
     ]
    }
   ],
   "source": [
    "# Question # 7\n",
    "\n",
    "def function(number, flag= True, dict1 = { 2:3 , 4:5 , 6:8 }):\n",
    "    if(flag==True):\n",
    "        if(number in dict1):\n",
    "            return (dict1[number])\n",
    "    else:\n",
    "        return False\n",
    "\n",
    "\n",
    "\n",
    "print(function(4,True))"
   ]
  },
  {
   "cell_type": "code",
   "execution_count": 83,
   "metadata": {},
   "outputs": [
    {
     "name": "stdout",
     "output_type": "stream",
     "text": [
      "False\n"
     ]
    }
   ],
   "source": [
    "# Question # 8\n",
    "\n",
    "def checkingIf(string, direction = True, d = {'apple': 2, 'pear': 1, 'fruit': 19, 'orange': 5, 'banana': 3, 'grapes': 2, 'watermelon': 7}):\n",
    "    if(direction==True):\n",
    "        if(string in d):\n",
    "            return True\n",
    "        else:\n",
    "            return False\n",
    "        \n",
    "    else:\n",
    "        if(string in d):\n",
    "            return True\n",
    "        else:\n",
    "            return False\n",
    "        \n",
    "\n",
    "print(checkingIf(\"apple\",True))"
   ]
  },
  {
   "cell_type": "code",
   "execution_count": 93,
   "metadata": {},
   "outputs": [
    {
     "name": "stdout",
     "output_type": "stream",
     "text": [
      "The Total characters in the file are:  124\n"
     ]
    }
   ],
   "source": [
    "# Question # 9\n",
    "\n",
    "with open(\"travel_plans.txt\") as myTravelFile:\n",
    "    data = myTravelFile.read()\n",
    "    num=len(data)\n",
    "    print(\"The Total characters in the file are: \",num)"
   ]
  },
  {
   "cell_type": "code",
   "execution_count": 96,
   "metadata": {},
   "outputs": [
    {
     "name": "stdout",
     "output_type": "stream",
     "text": [
      "Total number of vowels in the given sentence are:  32\n"
     ]
    }
   ],
   "source": [
    "# Question # 10\n",
    "\n",
    "s = \"singing in the rain and playing in the rain are two entirely different situations but both can be fun\"\n",
    "vowels = ['a','e','i','o','u']\n",
    "num_vowels=0\n",
    "\n",
    "for char in s:\n",
    "    if(char in vowels):\n",
    "        num_vowels+=1\n",
    "\n",
    "print(\"Total number of vowels in the given sentence are: \",num_vowels)"
   ]
  },
  {
   "cell_type": "code",
   "execution_count": 102,
   "metadata": {},
   "outputs": [
    {
     "name": "stdout",
     "output_type": "stream",
     "text": [
      " Total Number of months that average rainfall is greater than 3.0 are:  8\n"
     ]
    }
   ],
   "source": [
    "# Question # 11\n",
    "\n",
    "rainfall_mi= \"2.4,5.0,6.0,2.6,1.4,1.8,3.0,6.2,9.0,6.7,4.5,3.5,2.4,3.9\"\n",
    "numberOfMonth=0\n",
    "\n",
    "month= rainfall_mi.split(\",\")\n",
    "\n",
    "for inch in month:\n",
    "    if(float(inch) > 3.0):\n",
    "        numberOfMonth+=1\n",
    "        \n",
    "\n",
    "print(\" Total Number of months that average rainfall is greater than 3.0 are: \",numberOfMonth)"
   ]
  },
  {
   "cell_type": "code",
   "execution_count": 103,
   "metadata": {},
   "outputs": [
    {
     "name": "stdout",
     "output_type": "stream",
     "text": [
      "5\n",
      "0\n",
      "7\n",
      "9\n",
      "13\n"
     ]
    }
   ],
   "source": [
    "# Question # 12\n",
    "\n",
    "str_list = [\"hello\", \"\", \"goodbye\", \"wonderful\", \"I love Python\"]\n",
    "\n",
    "for word in str_list:\n",
    "    print(len(word))"
   ]
  },
  {
   "cell_type": "code",
   "execution_count": 108,
   "metadata": {
    "scrolled": true
   },
   "outputs": [
    {
     "name": "stdout",
     "output_type": "stream",
     "text": [
      "VALUES:\n",
      "hello\n",
      "2\n",
      "4\n",
      "6.0\n",
      "7.5\n",
      "234352354\n",
      "the end\n",
      "\n",
      "99\n",
      "DATA-TYPES:\n",
      "<class 'str'>\n",
      "<class 'int'>\n",
      "<class 'int'>\n",
      "<class 'float'>\n",
      "<class 'float'>\n",
      "<class 'int'>\n",
      "<class 'str'>\n",
      "<class 'str'>\n",
      "<class 'int'>\n"
     ]
    }
   ],
   "source": [
    "# Question # 13\n",
    "\n",
    "several_things = [\"hello\", 2, 4, 6.0, 7.5, 234352354, \"the end\", \"\", 99]\n",
    "\n",
    "print(\"VALUES:\")\n",
    "for element in several_things:\n",
    "    print(element)\n",
    "\n",
    "print(\"DATA-TYPES:\")\n",
    "for datatype in several_things:\n",
    "    print(type(datatype))"
   ]
  },
  {
   "cell_type": "code",
   "execution_count": 110,
   "metadata": {},
   "outputs": [
    {
     "name": "stdout",
     "output_type": "stream",
     "text": [
      "Names that contains 't':  ['Lochte', 'Bolt', 'Eaton', 'Dalton']\n",
      "Other names:  ['Phelps', 'Schooling', 'Ledecky', 'Franklin', 'Felix', 'Gardner', 'Biles', 'Douglas', 'Hamm', 'Raisman', 'Mikulak']\n"
     ]
    }
   ],
   "source": [
    "# Question # 14\n",
    "\n",
    "athletes = [\n",
    "    ['Phelps', 'Lochte', 'Schooling', 'Ledecky', 'Franklin'], \n",
    "    ['Felix', 'Bolt', 'Gardner', 'Eaton'], \n",
    "    ['Biles', 'Douglas', 'Hamm', 'Raisman', 'Mikulak', 'Dalton']\n",
    "]\n",
    "\n",
    "t_list=[]\n",
    "others=[]\n",
    "\n",
    "for outer in athletes:\n",
    "    for inner in outer:\n",
    "        if('t' in inner):\n",
    "            t_list.append(inner)\n",
    "        else:\n",
    "            others.append(inner)\n",
    "            \n",
    "            \n",
    "print(\"Names that contains 't': \",t_list)\n",
    "print(\"Other names: \",others)"
   ]
  },
  {
   "cell_type": "code",
   "execution_count": 113,
   "metadata": {},
   "outputs": [
    {
     "name": "stdout",
     "output_type": "stream",
     "text": [
      "LIST OF PASSED STUDENTS:   \n",
      " [('Tommy', 95), ('Carl', 70), ('Bob', 100), ('Sue', 75)]\n"
     ]
    }
   ],
   "source": [
    "# Question # 15\n",
    "\n",
    "students = [('Tommy', 95), ('Linda', 63), ('Carl', 70), ('Bob', 100), ('Raymond', 50), ('Sue', 75)]\n",
    "passed=[]\n",
    "\n",
    "for single in students:\n",
    "    if(single[1] >= 70):\n",
    "        passed.append(single)\n",
    "        \n",
    "print(\"LIST OF PASSED STUDENTS:   \\n\",passed)"
   ]
  }
 ],
 "metadata": {
  "kernelspec": {
   "display_name": "Python 3",
   "language": "python",
   "name": "python3"
  },
  "language_info": {
   "codemirror_mode": {
    "name": "ipython",
    "version": 3
   },
   "file_extension": ".py",
   "mimetype": "text/x-python",
   "name": "python",
   "nbconvert_exporter": "python",
   "pygments_lexer": "ipython3",
   "version": "3.7.3"
  }
 },
 "nbformat": 4,
 "nbformat_minor": 2
}
