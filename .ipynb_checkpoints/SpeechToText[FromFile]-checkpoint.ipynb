{
 "cells": [
  {
   "cell_type": "code",
   "execution_count": 7,
   "metadata": {},
   "outputs": [
    {
     "name": "stdout",
     "output_type": "stream",
     "text": [
      "Text: Sare kahan ja rahe ho aap hello my name is and I am doing some sound recording I am using laptop and also Google for this purpose\n"
     ]
    }
   ],
   "source": [
    "\n",
    "import speech_recognition as sr\n",
    "r = sr.Recognizer()\n",
    "with sr.AudioFile(\"C://Users//ShariQ//Desktop//Python_practice//sample3.wav\") as source:\n",
    "    audio = r.record(source)\n",
    "\n",
    "try:\n",
    "    s = r.recognize_google(audio)\n",
    "    print(\"Text: \"+s)\n",
    "except Exception as e:\n",
    "    print(\"Exception: \"+str(e))"
   ]
  },
  {
   "cell_type": "code",
   "execution_count": null,
   "metadata": {},
   "outputs": [],
   "source": []
  }
 ],
 "metadata": {
  "kernelspec": {
   "display_name": "Python 3",
   "language": "python",
   "name": "python3"
  },
  "language_info": {
   "codemirror_mode": {
    "name": "ipython",
    "version": 3
   },
   "file_extension": ".py",
   "mimetype": "text/x-python",
   "name": "python",
   "nbconvert_exporter": "python",
   "pygments_lexer": "ipython3",
   "version": "3.7.3"
  }
 },
 "nbformat": 4,
 "nbformat_minor": 2
}
